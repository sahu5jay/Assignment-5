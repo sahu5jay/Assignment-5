{
 "cells": [
  {
   "cell_type": "markdown",
   "id": "57e23bbc-2053-4f5a-9abd-f48eee658dc0",
   "metadata": {},
   "source": [
    "Que-1 What is the difference between interpreted and compiled languages?\n",
    "Ans-1 The main difference between interpreted and compiled languages lies in how code is translated and executed by the computer.\n",
    "    Compiled Languages- Code is translated all at once into machine code by a compiler before it runs.\n",
    "    Interpreted Languages- Code is translated and executed line-by-line at runtime by an interpreter."
   ]
  },
  {
   "cell_type": "markdown",
   "id": "38418fd5-ab61-41d4-a399-84021dc87508",
   "metadata": {},
   "source": [
    "Que-2 What is exception handling in Python?\n",
    "Ans-2 Exception handling in Python is a mechanism that allows you to detect and handle errors (called exceptions) during program execution without crashing the entire program.\n",
    "    ex- Dividing by zero: ZeroDivisionError"
   ]
  },
  {
   "cell_type": "markdown",
   "id": "add50172-e8c6-4ef4-8e81-7f37c012e8d6",
   "metadata": {},
   "source": [
    "Que-3 What is the purpose of the finally block in exception handling?\n",
    "Ans- 3 The finally block is used to define cleanup actions that must be executed no matter what happens in the try and except blocks — whether an exception is raised or not."
   ]
  },
  {
   "cell_type": "markdown",
   "id": "a7fac246-a963-4f1a-b913-986ec546d73c",
   "metadata": {},
   "source": [
    "Que-4 What is logging in Python?\n",
    "Ans-4 Logging in Python is the process of tracking events that happen when a program runs. Python provides a built-in logging module that helps you record messages for:\n",
    "for - Debugging, Monitoring, Error reporting, Performance tracking"
   ]
  },
  {
   "cell_type": "markdown",
   "id": "1867db7f-19ed-43ab-8645-6b2ac27d739b",
   "metadata": {},
   "source": [
    "Que-5 What is the significance of the __del__ method in Python?\n",
    "Ans-5 The __del__ method in Python is a special method known as a destructor. It is automatically called when an object is about to be destroyed, typically when it goes out of scope or is garbage collected.\n",
    "\n",
    "To release resources: like closing files, database connections, or network sockets.\n",
    "To log or track object lifecycle events for debugging.\n",
    "Used when manual cleanup is needed before the object is deleted."
   ]
  },
  {
   "cell_type": "markdown",
   "id": "0479c659-8f51-432e-b4f5-5ef9e9556937",
   "metadata": {},
   "source": [
    "Que-6 What is the difference between import and from ... import in Python?\n",
    "Ans-6 Both are used to bring external code (modules/functions/classes) into your current Python file, but they differ in how they import and how you access what's imported.\n",
    "    import module - Imports the entire module.\n",
    "    from module import item - Imports specific items (functions, classes, variables) directly."
   ]
  },
  {
   "cell_type": "markdown",
   "id": "779dd454-f87b-492a-b1b1-da45fa630fdd",
   "metadata": {},
   "source": [
    "Que-7 How can you handle multiple exceptions in Python?\n",
    "Ans-7 In Python, multiple exceptions can be handled using separate except blocks for each error type or by grouping exceptions in a tuple within a single except block. You can also use a generic except Exception to catch all errors, though it should be used carefully. Additionally, else runs if no exception occurs, and finally runs regardless of exceptions, making it useful for cleanup."
   ]
  },
  {
   "cell_type": "markdown",
   "id": "acc37549-66dd-46a8-a77e-a9d4712aa11c",
   "metadata": {},
   "source": [
    "Que-8 What is the purpose of the with statement when handling files in Python?\n",
    "Ans-8 The with statement in Python is used to handle files more safely and efficiently. Its main purpose is to automatically manage resources like file streams — ensuring that files are properly closed after their use, even if an error occurs during file operations."
   ]
  },
  {
   "cell_type": "markdown",
   "id": "52978440-6dc0-4602-8b48-4eaf55aff7b6",
   "metadata": {},
   "source": [
    "Que-9 What is the difference between multithreading and multiprocessing?\n",
    "Ans-9 Both multithreading and multiprocessing are used for concurrent execution, but they differ in how they achieve parallelism and how they utilize system resources.\n",
    "Multithreading- Runs multiple threads (lightweight processes) within a single process.\n",
    "    Threads share the same memory space.\n",
    "    Best for I/O-bound tasks (e.g., file reading, web scraping).\n",
    "Example Use Cases:\n",
    "    Downloading files\n",
    "    Handling multiple user requests in a web server\n",
    "Multithreading- Runs multiple threads (lightweight processes) within a single process.\n",
    "    Threads share the same memory space.\n",
    "    Best for I/O-bound tasks (e.g., file reading, web scraping).\n",
    "Example Use Cases:\n",
    "    Downloading files\n",
    "    Handling multiple user requests in a web server"
   ]
  },
  {
   "cell_type": "markdown",
   "id": "a99ac94a-06da-4f2d-b5dc-58c3333386f2",
   "metadata": {},
   "source": [
    "Que-10 What are the advantages of using logging in a program?\n",
    "Ans-10 Using the logging module in a program offers several important benefits over using simple print() statements:\n",
    " Tracks Program Execution- Logs help monitor how the program flows and behaves at runtime.\n",
    "     Helps in Debugging- log can detailed error messages, variable values, and execution steps.\n",
    "     Supports Multiple Severity Levels\n",
    "     Logging allows messages to be categorized as: DEBUG, INFO, WARNING, ERROR, CRITICAL\n",
    "     Saves Logs to Files- Unlike print(), logs can be saved to a file for later analysis.\n",
    "     Better Than print() in Production- print() is suitable for temporary debugging."
   ]
  },
  {
   "cell_type": "markdown",
   "id": "4d561f31-8a36-43d0-9206-81fa153ffb95",
   "metadata": {},
   "source": [
    "Que-11 What is memory management in Python?\n",
    "Ans-11 Memory management in Python refers to the process of allocating, tracking, and releasing memory used by variables, objects, and data structures during the execution of a program.\n",
    "    Automatic Memory Allocation- When you create a variable or object, Python automatically allocates memory from the heap.\n",
    "    Reference Counting- Every object keeps a count of references pointing to it.\n",
    "    Garbage Collection (GC)- Python has a built-in garbage collector that automatically frees up memory by removing unreachable (unused) objects.\n",
    "    Private Heap Space- All Python objects and data structures are stored in a private heap, managed internally by the interpreter."
   ]
  },
  {
   "cell_type": "markdown",
   "id": "fc0266cc-5309-4309-9ea1-67d0c7935565",
   "metadata": {},
   "source": [
    "Que-12 What are the basic steps involved in exception handling in Python?\n",
    "Ans-12 Python’s exception handling allows you to gracefully manage errors and keep your program running smoothly. The process involves a few structured steps:\n",
    "    Try Block- consits the code that might raise an exception inside a try block.\n",
    "    Except Block- If an error occurs in the try block, the except block catch the exception to handle the exception.\n",
    "    Finally Block- Code inside the finally block is always executed, regardless of whether an exception was raised or not — ideal for cleanup tasks like closing files."
   ]
  },
  {
   "cell_type": "markdown",
   "id": "87661851-0e4c-41f0-903f-4d083b7d6455",
   "metadata": {},
   "source": [
    "Que-13 Why is memory management important in Python?\n",
    "Ans-13 Memory management is crucial in Python because it ensures that your program uses system memory efficiently, safely, and without crashing due to memory leaks or overconsumption.\n",
    " Prevents Memory Leaks- Proper memory management ensures unused objects are removed from memory.\n",
    " Optimizes Performance- Efficient memory usage leads to faster and smoother execution.\n",
    " Enables Scalability- In larger or long-running applications (e.g., web servers, data pipelines), good memory management helps them scale without crashing or slowing down.\n",
    " Ensures System Stability- Releasing memory when it's no longer needed frees up system resources, making the entire machine or environment more stable."
   ]
  },
  {
   "cell_type": "markdown",
   "id": "86ff0ac6-d487-4c66-9dcc-939218aa4a3b",
   "metadata": {},
   "source": [
    "Que-14 What is the role of try and except in exception handling?\n",
    "Ans-14 the try block is used to run code that might raise an error, while the except block handles the error if it occurs. This prevents the program from crashing and allows it to respond gracefully to unexpected issues."
   ]
  },
  {
   "cell_type": "markdown",
   "id": "8939dea8-6adb-47ec-a2ac-a41b2b02b9ba",
   "metadata": {},
   "source": [
    "Que-15 How does Python's garbage collection system work?\n",
    "Ans-15 Python’s garbage collection system automatically manages memory by identifying and removing objects that are no longer in use, freeing up memory for new objects. It works through two main mechanisms:\n",
    " Reference Counting- Every object in Python has a reference count, which tracks how many variables point to it.\n",
    " Garbage Collector (GC) for Cyclic References- Python uses the gc module to detect and collect circular references — when objects refer to each other and are not accessible from outside."
   ]
  },
  {
   "cell_type": "markdown",
   "id": "d296f66a-db88-4af4-ad17-706b8f76c0b3",
   "metadata": {},
   "source": [
    "Que-16 What is the purpose of the else block in exception handling?\n",
    "Ans-16 The else block in Python exception handling is used to define code that should run only if no exceptions occur in the try block. It provides a clean way to separate normal logic from error-handling logic."
   ]
  },
  {
   "cell_type": "markdown",
   "id": "8e4192fd-be65-44fe-978b-995c71e74f13",
   "metadata": {},
   "source": [
    "Que-17 What are the common logging levels in Python?\n",
    "Ans-17 Python's logging module provides standard levels of severity to classify log messages. These levels help you filter, prioritize, and manage logs effectively during development and production.\n",
    "    DEBUG- Used for detailed diagnostic information, typically useful only for developers.\n",
    "    INFO- Used to confirm that things are working as expected.\n",
    "    WARNING- Indicates something unexpected happened or might cause a problem later.\n",
    "    ERROR- A serious problem occurred, affecting part of the program.\n",
    "    CRITICAL- Indicates a very serious error, possibly causing program termination."
   ]
  },
  {
   "cell_type": "markdown",
   "id": "e41975c0-5d5c-48ce-8fe2-a069aa83746d",
   "metadata": {},
   "source": [
    "Que-18 What is the difference between os.fork() and multiprocessing in Python?\n",
    "Ans-18  os.fork() and multiprocessing are both used to create new processes, but they differ in usage and portability. os.fork() is a low-level system call available only on UNIX-based systems and requires manual management of processes and communication. In contrast, multiprocessing is a high-level, cross-platform module that makes it easier and safer to create and manage processes, with built-in tools for communication and synchronization. Therefore, multiprocessing is generally preferred for application-level tasks in Python."
   ]
  },
  {
   "cell_type": "markdown",
   "id": "ed02dd73-54e2-4898-94a1-136657242fec",
   "metadata": {},
   "source": [
    "Que-19 What is the importance of closing a file in Python?\n",
    "Ans-19 Closing a file in Python is crucial for proper resource management and data integrity. When you open a file using open(), the operating system allocates system resources (like memory and file handles) to manage it. If the file isn't closed properly, it can lead to resource leaks, data not being saved, or even file corruption, especially in write mode."
   ]
  },
  {
   "cell_type": "markdown",
   "id": "ef16ec41-d697-420a-80f6-d6a2dce2bc18",
   "metadata": {},
   "source": [
    "Que-20 What is the difference between file.read() and file.readline() in Python?\n",
    "Ans-20 file.read() and file.readline() are used to read content from a file, but they differ in behavior. file.read() reads the entire file at once and returns it as a single string, making it suitable for small files. In contrast, file.readline() reads the file one line at a time, which is more memory-efficient for large files. Both methods include newline characters (\\n) in their output. The key difference is that read() loads the whole file, while readline() allows sequential line-by-line reading, making it better for processing large files safely."
   ]
  },
  {
   "cell_type": "markdown",
   "id": "2be9b99a-8e40-44f3-8593-d5ec8c7d60d7",
   "metadata": {},
   "source": [
    "Que-21 What is the logging module in Python used for?\n",
    "Ans-21 The logging module in Python is used to track events and record messages that happen while a program runs. It provides a flexible way to report errors, warnings, and status updates, making it a powerful tool for debugging, monitoring, and maintaining"
   ]
  },
  {
   "cell_type": "markdown",
   "id": "13ca6bd8-20f3-4a6e-b678-19e3f14c1fd5",
   "metadata": {},
   "source": [
    "Que-22 What is the os module in Python used for in file handling?\n",
    "Ans-22 The os module in Python provides functions to interact with the operating system, including powerful tools for file and directory handling. It allows you to perform tasks like creating, deleting, renaming, and navigating files and folders programmatically."
   ]
  },
  {
   "cell_type": "markdown",
   "id": "cacb6143-164f-4a2f-b67e-859328eadba6",
   "metadata": {},
   "source": [
    "Que-23 What are the challenges associated with memory management in Python?\n",
    "Ans-23 Memory management is mostly automatic, but it comes with some challenges. One major issue is the Global Interpreter Lock (GIL), which limits true parallelism in multi-threaded programs. Python can also face memory leaks due to unintentional references or growing data structures. Although the garbage collector handles circular references, it may not clean them up immediately, causing delays. Additionally, Python's high-level data types use more memory, and developers have limited manual control over memory allocation, which can be a drawback in performance-critical applications."
   ]
  },
  {
   "cell_type": "markdown",
   "id": "cd2886d6-a104-4ef5-b243-ae5e04c6c39c",
   "metadata": {},
   "source": [
    "Que-24 How do you raise an exception manually in Python?\n",
    "Ans-24 manually raise an exception using the raise keyword. This is useful when you want to intentionally trigger an error based on custom conditions or logic in your program."
   ]
  },
  {
   "cell_type": "markdown",
   "id": "379f241f-a319-4589-bc0a-0b3904d9332c",
   "metadata": {},
   "source": [
    "Que-25 Why is it important to use multithreading in certain applications?\n",
    "Ans-25 Multithreading is important in certain applications because it allows multiple tasks to run concurrently within a single process, improving efficiency, especially in I/O-bound tasks."
   ]
  },
  {
   "cell_type": "code",
   "execution_count": 14,
   "id": "8e311fd5-0182-41ef-b0a5-940329faa832",
   "metadata": {},
   "outputs": [],
   "source": [
    "# Que-1 How can you open a file for writing in Python and write a string to it?\n",
    "with open(\"example.txt\",'w') as file:\n",
    "    file.write(\"write on the file.\")"
   ]
  },
  {
   "cell_type": "code",
   "execution_count": 18,
   "id": "b3e1d2b1-9561-4d58-8ad4-1a6ff5a3313c",
   "metadata": {},
   "outputs": [],
   "source": [
    "# Que-2 Write a Python program to read the contents of a file and print each line?\n",
    "with open(\"example.txt\",'r') as file:\n",
    "    data = file.read()\n",
    "    print(data)"
   ]
  },
  {
   "cell_type": "code",
   "execution_count": 19,
   "id": "deddf6a3-2c90-4949-b864-c0880786cddd",
   "metadata": {},
   "outputs": [
    {
     "name": "stdout",
     "output_type": "stream",
     "text": [
      "error ocurred\n"
     ]
    }
   ],
   "source": [
    "# Que-3 How would you handle a case where the file doesn't exist while trying to open it for reading?\n",
    "try:\n",
    "   with open(\"example2.txt\",'r') as file:\n",
    "       file.read()\n",
    "except FileNotFoundError:\n",
    "    print(\"error ocurred\")"
   ]
  },
  {
   "cell_type": "code",
   "execution_count": 28,
   "id": "10b64df1-a499-4ef4-8b4d-081afe010c9e",
   "metadata": {},
   "outputs": [
    {
     "name": "stdout",
     "output_type": "stream",
     "text": [
      "write on the file.\n"
     ]
    }
   ],
   "source": [
    "# Que-4 Write a Python script that reads from one file and writes its content to another file?\n",
    "\n",
    "with open(\"example.txt\",'r') as file1:\n",
    "    data = file1.readline()\n",
    "    with open(\"example3.txt\",'w') as file2:\n",
    "        file2.write(data)\n",
    "with open(\"example3.txt\",'r') as file3:\n",
    "    data2 = file3.read()\n",
    "\n",
    "print(data2)\n",
    "    "
   ]
  },
  {
   "cell_type": "code",
   "execution_count": 31,
   "id": "35ab61e3-026c-4a58-9f1d-f12ac2ec9200",
   "metadata": {},
   "outputs": [
    {
     "name": "stdout",
     "output_type": "stream",
     "text": [
      "division by zero\n"
     ]
    }
   ],
   "source": [
    "# Que-5 How would you catch and handle division by zero error in Python?\n",
    "try:\n",
    "    print(5/0)\n",
    "except ZeroDivisionError as e:\n",
    "    print(e)\n",
    "    "
   ]
  },
  {
   "cell_type": "code",
   "execution_count": 32,
   "id": "60ff34c9-b945-415f-b7a0-d479cb3558ca",
   "metadata": {},
   "outputs": [
    {
     "name": "stdout",
     "output_type": "stream",
     "text": [
      "The dinominator is zero: division by zero\n"
     ]
    }
   ],
   "source": [
    "# Que-6 Write a Python program that logs an error message to a log file when a division by zero exception occurs?\n",
    "import logging as log\n",
    "\n",
    "log.basicConfig(\n",
    "    filename = \"logging_file.log\",\n",
    "    level = log.ERROR,\n",
    "    format = \"%(asctime)s - %(levelname)s - %(message)s\"    \n",
    ")\n",
    "\n",
    "try:\n",
    "    x = 5\n",
    "    y = 0\n",
    "\n",
    "    result = x/y\n",
    "    print(result)\n",
    "except ZeroDivisionError as e:\n",
    "    log.error(\"Division by zero occurred: %s\", e)\n",
    "    print(f\"The dinominator is zero: {e}\")\n"
   ]
  },
  {
   "cell_type": "code",
   "execution_count": 38,
   "id": "3b50b24f-afce-4d2b-a802-6c299a3059a0",
   "metadata": {},
   "outputs": [],
   "source": [
    "# Que-7 How do you log information at different levels (INFO, ERROR, WARNING) in Python using the logging module?\n",
    "import logging as log\n",
    "\n",
    "log.basicConfig(\n",
    "    filename = \"loggingfile2.log\",\n",
    "    level = log.DEBUG,\n",
    "    format = \"%(asctime)s - %(levelname)s - %(message)s\"\n",
    ")\n",
    "\n",
    "log.debug(\"This is a DEBUG message – useful for diagnosing problems.\")\n",
    "log.info(\"This is an INFO message – general runtime information.\")\n",
    "log.warning(\"This is a WARNING message – something unexpected happened.\")\n",
    "log.error(\"This is an ERROR message – a serious issue occurred.\")\n",
    "log.critical(\"This is a CRITICAL message – program may not continue.\")"
   ]
  },
  {
   "cell_type": "code",
   "execution_count": 1,
   "id": "71a0eb8e-98ad-4dcb-96f2-d72f9e891d51",
   "metadata": {},
   "outputs": [
    {
     "name": "stdout",
     "output_type": "stream",
     "text": [
      "The file you are trying to open does not exist [Errno 2] No such file or directory: 'non_existent_file.txt'.\n"
     ]
    }
   ],
   "source": [
    "# Que-8 Write a program to handle a file opening error using exception handling?\n",
    "try:\n",
    "    with open(\"non_existent_file.txt\", \"r\") as file:\n",
    "        data = file.read()\n",
    "        print(data)\n",
    "\n",
    "except FileNotFoundError as e:\n",
    "    print(f\"The file you are trying to open does not exist {e}.\")"
   ]
  },
  {
   "cell_type": "code",
   "execution_count": 4,
   "id": "daafdeba-0e4c-4d85-ad90-776ff664ce25",
   "metadata": {},
   "outputs": [
    {
     "name": "stdout",
     "output_type": "stream",
     "text": [
      "['w', 'r', 'i', 't', 'e', '', 'o', 'n', '', 't', 'h', 'e', '', 'f', 'i', 'l', 'e', '.']\n"
     ]
    }
   ],
   "source": [
    "# Que-9 How can you read a file line by line and store its content in a list in Python?\n",
    "with open(\"example.txt\",'r') as file:\n",
    "    lines = [line.strip() for line in file.read()]\n",
    "print(lines)"
   ]
  },
  {
   "cell_type": "code",
   "execution_count": 5,
   "id": "66c01119-8a57-47ea-b237-8590513dac77",
   "metadata": {},
   "outputs": [
    {
     "name": "stdout",
     "output_type": "stream",
     "text": [
      "write on the file.\n"
     ]
    }
   ],
   "source": [
    "with open(\"example.txt\",'r') as file:\n",
    "    while(True):\n",
    "\n",
    "        line = file.readline()\n",
    "\n",
    "        if not line:\n",
    "            break\n",
    "        print(line)"
   ]
  },
  {
   "cell_type": "code",
   "execution_count": 6,
   "id": "42de8e39-ed50-4030-908a-04b99eb4bb5e",
   "metadata": {},
   "outputs": [
    {
     "name": "stdout",
     "output_type": "stream",
     "text": [
      "write on the file.\n"
     ]
    }
   ],
   "source": [
    "with open(\"example.txt\", \"r\") as file:\n",
    "    for line in file:\n",
    "        print(line.strip())"
   ]
  },
  {
   "cell_type": "code",
   "execution_count": 13,
   "id": "8b10f176-28ab-4c79-9cc5-8d17643eba8f",
   "metadata": {},
   "outputs": [
    {
     "name": "stdout",
     "output_type": "stream",
     "text": [
      "New data addedNew data added/nNew data added|nNew data added\n",
      " New data added\n"
     ]
    }
   ],
   "source": [
    "# Que-10 How can you append data to an existing file in Python\n",
    "try:\n",
    "    with open(\"example.txt\",'a') as file:\n",
    "        file.write(\"\\n New data added\")\n",
    "\n",
    "except FileNotFoundError as e:\n",
    "    print(f\"File does not exest: {e}\")\n",
    "\n",
    "with open(\"example.txt\",'r') as file:\n",
    "    data = file.read()\n",
    "print(data)"
   ]
  },
  {
   "cell_type": "code",
   "execution_count": 19,
   "id": "d7ea880c-8ffd-47da-8058-a1355fefdf37",
   "metadata": {},
   "outputs": [
    {
     "name": "stdout",
     "output_type": "stream",
     "text": [
      "Key not fount error: 'Grade'\n"
     ]
    }
   ],
   "source": [
    "# Que-11 Write a Python program that uses a try-except block to handle an error when attempting to access a dictionary key that doesn't exist?\n",
    "student = {\n",
    "    \"Name\" : \"Jay\",\n",
    "    \"Age\" : 22\n",
    "}\n",
    "try:\n",
    "    print(\"Grade : \" , print(student[\"Grade\"]))\n",
    "except KeyError as e:\n",
    "    print(f\"Key not fount error: {e}\")"
   ]
  },
  {
   "cell_type": "code",
   "execution_count": 23,
   "id": "d6dcead3-f7f1-4db0-9b52-c655829e3f85",
   "metadata": {},
   "outputs": [
    {
     "name": "stdin",
     "output_type": "stream",
     "text": [
      "Enter a number:  1\n"
     ]
    },
    {
     "name": "stdout",
     "output_type": "stream",
     "text": [
      "List index out of range.\n"
     ]
    }
   ],
   "source": [
    "# Que-12 Write a program that demonstrates using multiple except blocks to handle different types of exceptions?\n",
    "try:\n",
    "    num = int(input(\"Enter a number: \"))\n",
    "    result = 10 / num\n",
    "    my_list = [1, 2, 3]\n",
    "    print(\"Fourth item:\", my_list[3]) \n",
    "\n",
    "except ValueError:\n",
    "    print(\"Invalid input. Please enter a valid integer.\")\n",
    "\n",
    "except ZeroDivisionError:\n",
    "    print(\"Cannot divide by zero.\")\n",
    "\n",
    "except IndexError:\n",
    "    print(\"List index out of range.\")\n",
    "\n",
    "except Exception as e:\n",
    "    print(\"An unexpected error occurred:\", e)\n"
   ]
  },
  {
   "cell_type": "code",
   "execution_count": 24,
   "id": "1bf398f6-ab10-4ccd-9ea9-9a9aaeb55918",
   "metadata": {},
   "outputs": [
    {
     "name": "stdout",
     "output_type": "stream",
     "text": [
      "New data addedNew data added/nNew data added|nNew data added\n",
      " New data added\n"
     ]
    }
   ],
   "source": [
    "# Que-13 How would you check if a file exists before attempting to read it in Python?\n",
    "import os\n",
    "\n",
    "if os.path.exists(\"example.txt\"):\n",
    "    with open(\"example.txt\", \"r\") as file:\n",
    "        content = file.read()\n",
    "        print(content)\n",
    "else:\n",
    "    print(\"File does not exist.\")\n"
   ]
  },
  {
   "cell_type": "code",
   "execution_count": 25,
   "id": "bf9c3760-ed6f-4e5b-9999-ec1e561b7285",
   "metadata": {},
   "outputs": [
    {
     "name": "stdout",
     "output_type": "stream",
     "text": [
      "New data addedNew data added/nNew data added|nNew data added\n",
      " New data added\n"
     ]
    }
   ],
   "source": [
    "from pathlib import Path\n",
    "file = Path(\"example.txt\")\n",
    "\n",
    "if file.exists():\n",
    "    with file.open(\"r\") as f:\n",
    "        content = f.read()\n",
    "        print(content)\n",
    "else:\n",
    "    print(\"File does not exist.\")\n"
   ]
  },
  {
   "cell_type": "code",
   "execution_count": 27,
   "id": "822a50c9-3d4d-4a0a-a244-28fe173d0344",
   "metadata": {},
   "outputs": [],
   "source": [
    "# Que-14 Write a program that uses the logging module to log both informational and error messages?\n",
    "import logging\n",
    "\n",
    "# Configure the logging system\n",
    "logging.basicConfig(\n",
    "    filename=\";ogging_file3.log\",                \n",
    "    level=logging.DEBUG,              \n",
    "    format=\"%(asctime)s - %(levelname)s - %(message)s\"\n",
    ")\n",
    "\n",
    "logging.info(\"Program started successfully.\")\n",
    "\n",
    "try:\n",
    "    result = 10 / 0  \n",
    "except ZeroDivisionError as e:\n",
    "    logging.error(\"An error occurred: %s\", e)\n"
   ]
  },
  {
   "cell_type": "code",
   "execution_count": 2,
   "id": "ac2a7c38-0c70-4daa-8e70-0e5bde70a0d8",
   "metadata": {},
   "outputs": [
    {
     "name": "stdout",
     "output_type": "stream",
     "text": [
      "IO error\n"
     ]
    }
   ],
   "source": [
    "# Que-15 Write a Python program that prints the content of a file and handles the case when the file is empty?\n",
    "try:\n",
    "    with open(\"example.txt\",'a') as file:\n",
    "        data = file.read()\n",
    "        if data.strip() == \"\":\n",
    "            print(\"no data available\")\n",
    "        else :\n",
    "            print(data)\n",
    "\n",
    "except FileNotFoundError:\n",
    "    print(\"file is not found\")\n",
    "except IOError:\n",
    "    print(\"IO error\")\n",
    "\n",
    "    \n",
    "        "
   ]
  },
  {
   "cell_type": "code",
   "execution_count": 3,
   "id": "6643b484-7ff2-4c31-ba82-0cc377462a54",
   "metadata": {},
   "outputs": [],
   "source": [
    "# Que-16 Demonstrate how to use memory profiling to check the memory usage of a small program?"
   ]
  },
  {
   "cell_type": "code",
   "execution_count": 10,
   "id": "7ab4d76c-5bf7-4572-b3c4-bf58df6cba1a",
   "metadata": {},
   "outputs": [
    {
     "name": "stdout",
     "output_type": "stream",
     "text": [
      "1\n",
      "2\n",
      "3\n",
      "4\n",
      "5\n",
      "\n"
     ]
    }
   ],
   "source": [
    "# Que-17 Write a Python program to create and write a list of numbers to a file, one number per line?\n",
    "number_list = [1,2,3,4,5]\n",
    "try:\n",
    "    with open(\"number.txt\",'w') as file:\n",
    "        for i in number_list:\n",
    "            file.write(f\"{i}\\n\")\n",
    "except FileNotFoundError:\n",
    "    print(\"file not found error\")\n",
    "with open(\"number.txt\",'r') as file1:\n",
    "    data = file1.read()\n",
    "    print(data)"
   ]
  },
  {
   "cell_type": "code",
   "execution_count": null,
   "id": "da2236e7-714a-4eb4-88f8-5c3f3a761c57",
   "metadata": {},
   "outputs": [],
   "source": [
    "# Que-18 How would you implement a basic logging setup that logs to a file with rotation after 1MB?"
   ]
  },
  {
   "cell_type": "code",
   "execution_count": 13,
   "id": "339351b1-254c-4143-8b44-b9b85c02315c",
   "metadata": {},
   "outputs": [
    {
     "name": "stdout",
     "output_type": "stream",
     "text": [
      "IndexError occurred: list index out of range\n"
     ]
    }
   ],
   "source": [
    "# Que-19 Write a program that handles both IndexError and KeyError using a try-except block?\n",
    "my_list = [10, 20, 30]\n",
    "my_dict = {'a': 1, 'b': 2}\n",
    "\n",
    "try:\n",
    "    print(\"Accessing list index 5:\", my_list[5])\n",
    "    print(\"Accessing dict key 'z':\", my_dict['z'])\n",
    "\n",
    "except IndexError as ie:\n",
    "    print(\"IndexError occurred:\", ie)\n",
    "\n",
    "except KeyError as ke:\n",
    "    print(\"KeyError occurred:\", ke)\n"
   ]
  },
  {
   "cell_type": "code",
   "execution_count": 14,
   "id": "01ecb42e-27f0-4a60-bff5-0c2113c86c7a",
   "metadata": {},
   "outputs": [
    {
     "name": "stdout",
     "output_type": "stream",
     "text": [
      "File contents:\n",
      "New data addedNew data added/nNew data added|nNew data added\n",
      " New data added\n"
     ]
    }
   ],
   "source": [
    "# Que-20 How would you open a file and read its contents using a context manager in Python?\n",
    "filename = \"example.txt\"\n",
    "\n",
    "try:\n",
    "    with open(filename, 'r') as file:\n",
    "        contents = file.read()\n",
    "        print(\"File contents:\")\n",
    "        print(contents)\n",
    "except FileNotFoundError:\n",
    "    print(f\"The file '{filename}' does not exist.\")\n",
    "except IOError as e:\n",
    "    print(f\"An error occurred while reading the file: {e}\")\n"
   ]
  },
  {
   "cell_type": "code",
   "execution_count": 18,
   "id": "58512018-9987-465e-be38-7859005fd495",
   "metadata": {},
   "outputs": [
    {
     "name": "stdout",
     "output_type": "stream",
     "text": [
      "the no. of line in the code: 3\n"
     ]
    }
   ],
   "source": [
    "# Que-21 Write a Python program that reads a file and prints the number of occurrences of a specific word?\n",
    "count = 0\n",
    "try:\n",
    "    with open(\"example.txt\",'r') as file:\n",
    "        while(True):\n",
    "            count = count+1\n",
    "\n",
    "            data = file.readline()\n",
    "\n",
    "            if not data:\n",
    "                break\n",
    "    print(f\"the no. of line in the code: {count}\")    \n",
    "except FileNotFountError:\n",
    "    print(\"the file is not found\")\n",
    "        "
   ]
  },
  {
   "cell_type": "code",
   "execution_count": 19,
   "id": "8abd9219-d0c0-40a5-a700-5b32e0d9b3ad",
   "metadata": {},
   "outputs": [
    {
     "name": "stdout",
     "output_type": "stream",
     "text": [
      "File contents:\n",
      "New data addedNew data added/nNew data added|nNew data added\n",
      " New data added\n"
     ]
    }
   ],
   "source": [
    "# Que-22 How can you check if a file is empty before attempting to read its contents?\n",
    "import os\n",
    "\n",
    "filename = \"example.txt\"\n",
    "\n",
    "if os.path.exists(filename):\n",
    "    if os.path.getsize(filename) == 0:\n",
    "        print(f\"The file '{filename}' is empty.\")\n",
    "    else:\n",
    "        with open(filename, 'r') as file:\n",
    "            content = file.read()\n",
    "            print(\"File contents:\")\n",
    "            print(content)\n",
    "else:\n",
    "    print(f\"The file '{filename}' does not exist.\")\n"
   ]
  },
  {
   "cell_type": "code",
   "execution_count": null,
   "id": "50317e79-36e1-4d97-a71c-cf129542e1ed",
   "metadata": {},
   "outputs": [],
   "source": []
  }
 ],
 "metadata": {
  "kernelspec": {
   "display_name": "Python 3 (ipykernel)",
   "language": "python",
   "name": "python3"
  },
  "language_info": {
   "codemirror_mode": {
    "name": "ipython",
    "version": 3
   },
   "file_extension": ".py",
   "mimetype": "text/x-python",
   "name": "python",
   "nbconvert_exporter": "python",
   "pygments_lexer": "ipython3",
   "version": "3.13.4"
  }
 },
 "nbformat": 4,
 "nbformat_minor": 5
}
